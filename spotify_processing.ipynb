{
 "metadata": {
  "language_info": {
   "codemirror_mode": {
    "name": "ipython",
    "version": 3
   },
   "file_extension": ".py",
   "mimetype": "text/x-python",
   "name": "python",
   "nbconvert_exporter": "python",
   "pygments_lexer": "ipython3",
   "version": 3
  },
  "orig_nbformat": 2
 },
 "nbformat": 4,
 "nbformat_minor": 2,
 "cells": [
  {
   "cell_type": "code",
   "execution_count": null,
   "source": [
    "from __future__ import print_function    # (at top of module)\r\n",
    "from spotipy.oauth2 import SpotifyClientCredentials\r\n",
    "import json\r\n",
    "import spotipy\r\n",
    "import time\r\n",
    "import sys \r\n",
    "import pandas as pd\r\n",
    "import matplotlib.pyplot as plt\r\n",
    "import numpy as np\r\n",
    "import plotly\r\n",
    "import plotly.express as px\r\n",
    "import plotly.graph_objects as go\r\n",
    "from collections import OrderedDict\r\n",
    "from math import log\r\n",
    "import calmap\r\n",
    "\r\n",
    "import plotly\r\n",
    "from plotly import __version__\r\n",
    "print (__version__)\r\n",
    "from plotly.offline import download_plotlyjs, init_notebook_mode,plot,iplot\r\n",
    "\r\n",
    "\r\n",
    "#plotly setup\r\n",
    "init_notebook_mode(connected=True)\r\n",
    "pd.set_option('display.max_colwidth', None)\r\n",
    "\r\n",
    "spotify_data_one = pd.read_json(\"data/StreamingHistory0.json\")\r\n",
    "spotify_data_two = pd.read_json(\"data/StreamingHistory1.json\")\r\n",
    "\r\n",
    "spotify_data_combined = spotify_data_one.append( spotify_data_two )\r\n",
    "\r\n",
    "spotify_data_combined\r\n",
    "\r\n",
    "#TODO: get start time if you want to correlated granularly from start of events\r\n"
   ],
   "outputs": [],
   "metadata": {}
  },
  {
   "cell_type": "code",
   "execution_count": null,
   "source": [
    "# obtain the track_IDs by using the API to search the name of our track, \r\n",
    "import requests\r\n",
    "\r\n",
    "# write the function to get track_id\r\n",
    "def get_id(track_name: str,artist:str, token: str) -> str:\r\n",
    "    headers = {\r\n",
    "    'Accept': 'application/json',\r\n",
    "    'Content-Type': 'application/json',\r\n",
    "    'Authorization': f'Bearer ' + token,\r\n",
    "    }\r\n",
    "    track_artist = track_name+ \" \" + artist\r\n",
    "    params = [\r\n",
    "    ('q',track_artist ),#q is the search query parameter\r\n",
    "    ('type', 'track'),\r\n",
    "    ]\r\n",
    "    try:\r\n",
    "        response = requests.get('https://api.spotify.com/v1/search', \r\n",
    "                    headers = headers, params = params, timeout = 10)\r\n",
    "        json = response.json()\r\n",
    "        first_result = json['tracks']['items'][0]\r\n",
    "        track_id = first_result['id']\r\n",
    "        return track_id\r\n",
    "    except:\r\n",
    "        return None\r\n",
    "\r\n",
    "# Get track_id for streaming history    \r\n",
    "spotify_data[\"trackId\"] = spotify_data.apply(lambda x: get_id(x[\"trackName\"], x[\"artistName\"], token),axis=1)\r\n",
    "\r\n"
   ],
   "outputs": [],
   "metadata": {}
  },
  {
   "cell_type": "code",
   "execution_count": null,
   "source": [
    "## next steps are to get the song attributes... liveliness etc..."
   ],
   "outputs": [],
   "metadata": {}
  }
 ]
}